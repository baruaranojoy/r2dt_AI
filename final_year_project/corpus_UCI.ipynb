{
 "cells": [
  {
   "cell_type": "code",
   "execution_count": 1,
   "metadata": {},
   "outputs": [],
   "source": [
    "from bs4 import BeautifulSoup\n",
    "import requests\n",
    "import time\n",
    "import os\n",
    "import urllib.request, json \n",
    "import sys\n",
    "import pandas as pd\n",
    "\n",
    "from __future__ import absolute_import\n",
    "from __future__ import division, print_function, unicode_literals\n",
    "\n",
    "from sumy.parsers.html import HtmlParser\n",
    "from sumy.parsers.plaintext import PlaintextParser\n",
    "from sumy.nlp.tokenizers import Tokenizer\n",
    "from sumy.summarizers.lsa import LsaSummarizer as Summarizer\n",
    "from sumy.nlp.stemmers import Stemmer\n",
    "from sumy.utils import get_stop_words\n",
    "\n",
    "from nltk.corpus import stopwords\n",
    "from nltk.tokenize import word_tokenize\n",
    "from tqdm import tqdm"
   ]
  },
  {
   "cell_type": "code",
   "execution_count": 2,
   "metadata": {},
   "outputs": [],
   "source": [
    "LANGUAGE = \"english\"\n",
    "SENTENCES_COUNT = 50\n",
    "stop_words = set(stopwords.words('english'))\n",
    "stop_words.update(['.', ',', '\"', \"'\", '?', '!', ':', ';', '(', ')', '[', ']', '{', '}'])"
   ]
  },
  {
   "cell_type": "code",
   "execution_count": 3,
   "metadata": {},
   "outputs": [],
   "source": [
    "def consize(url , filename):\n",
    "    #print (\"URL : \", url)\n",
    "    #print (filename)\n",
    "    parser = HtmlParser.from_url(url, Tokenizer(LANGUAGE))\n",
    "    stemmer = Stemmer(LANGUAGE)\n",
    "    summarizer = Summarizer(stemmer)\n",
    "    summarizer.stop_words = get_stop_words(LANGUAGE)\n",
    "    \n",
    "    counter = 1\n",
    "    corpus = []\n",
    "    corpus_new = []\n",
    "    fopen = open(filename, 'w')\n",
    "    fopen.write(\"Source :\" + str(url) + \"\\n\" + \"Content :\")\n",
    "    for sentence in summarizer(parser.document, SENTENCES_COUNT):\n",
    "        #print(counter , \") \",  sentence)\n",
    "        corpus.append(str(sentence).split(\" \"))\n",
    "        corpus_new.append(str(sentence))\n",
    "        \n",
    "        word_tokens = word_tokenize(str(sentence))\n",
    "        filtered_sentence = [w for w in word_tokens if not w in stop_words]\n",
    "        filtered_sentence1 = \"\"\n",
    " \n",
    "        for w in word_tokens:\n",
    "            if w not in stop_words:\n",
    "                filtered_sentence1 += str(w) + \" \"\n",
    " \n",
    "        #print(counter , \") \",  filtered_sentence1)\n",
    "        #print(\"-------\")\n",
    "        fopen.write(str(sentence) + \" \")\n",
    "        \n",
    "        counter += 1\n",
    "    fopen.close()"
   ]
  },
  {
   "cell_type": "code",
   "execution_count": 4,
   "metadata": {},
   "outputs": [],
   "source": [
    "source = \"corpus/uci-news-aggregator.csv\"\n",
    "location = \"corpus/uci_news/\""
   ]
  },
  {
   "cell_type": "code",
   "execution_count": 5,
   "metadata": {},
   "outputs": [
    {
     "name": "stdout",
     "output_type": "stream",
     "text": [
      "422419\n"
     ]
    }
   ],
   "source": [
    "data_dump = pd.read_csv(source) # read source data\n",
    "link = data_dump['URL'].tolist()\n",
    "print (len(link))"
   ]
  },
  {
   "cell_type": "code",
   "execution_count": null,
   "metadata": {
    "scrolled": true
   },
   "outputs": [
    {
     "name": "stderr",
     "output_type": "stream",
     "text": [
      "  1%|          | 44/4000 [01:44<2:36:13,  2.37s/it]"
     ]
    }
   ],
   "source": [
    "for k in tqdm(range(1000, 5000)):\n",
    "    file_name = link[k].replace(\"/\", \"__\")\n",
    "    location_sore = location + file_name + \".txt\"\n",
    "    try:\n",
    "        consize(link[k], location_sore)\n",
    "    except:\n",
    "        pass"
   ]
  },
  {
   "cell_type": "code",
   "execution_count": null,
   "metadata": {},
   "outputs": [],
   "source": []
  }
 ],
 "metadata": {
  "kernelspec": {
   "display_name": "Python 3",
   "language": "python",
   "name": "python3"
  },
  "language_info": {
   "codemirror_mode": {
    "name": "ipython",
    "version": 3
   },
   "file_extension": ".py",
   "mimetype": "text/x-python",
   "name": "python",
   "nbconvert_exporter": "python",
   "pygments_lexer": "ipython3",
   "version": "3.6.5"
  }
 },
 "nbformat": 4,
 "nbformat_minor": 2
}
