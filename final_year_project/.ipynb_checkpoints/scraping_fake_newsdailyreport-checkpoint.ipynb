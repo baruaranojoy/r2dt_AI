{
 "cells": [
  {
   "cell_type": "code",
   "execution_count": 9,
   "metadata": {},
   "outputs": [],
   "source": [
    "from bs4 import BeautifulSoup\n",
    "import requests\n",
    "import time\n",
    "import os\n",
    "import urllib.request, json"
   ]
  },
  {
   "cell_type": "code",
   "execution_count": 10,
   "metadata": {},
   "outputs": [],
   "source": [
    "cat = ['accident-2',\n",
    "       'crime',\n",
    "       'education',\n",
    "       'entertainment',\n",
    "       'environmental',\n",
    "       'greatest-hits',\n",
    "       'health']\n",
    "\n",
    "b = 'https://worldnewsdailyreport.com/category/'\n",
    "\n",
    "c = ['/#comments',\n",
    "     '/advertise-nr/',\n",
    "     '/category/',\n",
    "     '/comments/',\n",
    "     '/contribute/',\n",
    "     '/wp-admin/',\n",
    "     '/fan-mail/',\n",
    "     '/disclaimer_/',\n",
    "     '/feed/',\n",
    "     '/media-inquiries/',\n",
    "     '#respond',\n",
    "     '/about-us/',\n",
    "     '/faq/',\n",
    "     '/contact-us/']\n",
    "normal_set = set([])\n",
    "d='worldnewsdailyreport'\n",
    "e='https://worldnewsdailyreport.com/'\n",
    "page = requests.get('https://worldnewsdailyreport.com')\n",
    "soup = BeautifulSoup(page.content,'html.parser')"
   ]
  },
  {
   "cell_type": "code",
   "execution_count": null,
   "metadata": {},
   "outputs": [],
   "source": [
    "for k in range(2):\n",
    "    links=soup.findAll(\"a\")\n",
    "    d = 'worldnewsdailyreport'\n",
    "    for link in links:\n",
    "        try:\n",
    "            p=link[\"href\"]\n",
    "            if b in p:\n",
    "                page1=requests.get(p)\n",
    "                soup1 = BeautifulSoup(page1.content,'html.parser')\n",
    "                links1=soup1.findAll(\"a\")\n",
    "                for link1 in links1:\n",
    "                    try:\n",
    "                        p1=link1[\"href\"]\n",
    "                        if d in p1 and p1!=e and not(any(ext in p1 for ext in c)):\n",
    "                            normal_set.add(p1)\n",
    "                    except:\n",
    "                        pass    \n",
    "        except:\n",
    "            pass\n",
    "\n",
    "    print (normal_set)"
   ]
  },
  {
   "cell_type": "code",
   "execution_count": null,
   "metadata": {},
   "outputs": [],
   "source": []
  }
 ],
 "metadata": {
  "kernelspec": {
   "display_name": "Python 3",
   "language": "python",
   "name": "python3"
  },
  "language_info": {
   "codemirror_mode": {
    "name": "ipython",
    "version": 3
   },
   "file_extension": ".py",
   "mimetype": "text/x-python",
   "name": "python",
   "nbconvert_exporter": "python",
   "pygments_lexer": "ipython3",
   "version": "3.6.5"
  }
 },
 "nbformat": 4,
 "nbformat_minor": 2
}
