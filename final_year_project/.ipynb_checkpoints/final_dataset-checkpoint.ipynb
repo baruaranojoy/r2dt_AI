{
 "cells": [
  {
   "cell_type": "code",
   "execution_count": 47,
   "metadata": {},
   "outputs": [],
   "source": [
    "import os\n",
    "import glob\n",
    "import shutil"
   ]
  },
  {
   "cell_type": "code",
   "execution_count": 48,
   "metadata": {},
   "outputs": [],
   "source": [
    "current_working_directory = os.getcwd()\n",
    "scraped_data_directory = current_working_directory + \"/Data/\"\n",
    "final_data_directory = current_working_directory + \"/Data_final/\""
   ]
  },
  {
   "cell_type": "code",
   "execution_count": 49,
   "metadata": {},
   "outputs": [],
   "source": [
    "def isok(file_name):\n",
    "    fopen = open(file_name, 'r')\n",
    "    data = fopen.read()\n",
    "    fopen.close()\n",
    "    data = data.split(\"\\n\")\n",
    "    if len(data) > 2:\n",
    "        return 1\n",
    "    elif len(data) == 2:\n",
    "        if len(data[1]) > 20:\n",
    "            return 1\n",
    "    else:\n",
    "        return 0"
   ]
  },
  {
   "cell_type": "code",
   "execution_count": 53,
   "metadata": {},
   "outputs": [],
   "source": [
    "def find_usable_data(type):\n",
    "    all_file_name = glob.glob(scraped_data_directory + type + \"/\" + \"*.txt\")\n",
    "    for num_news in range(len(all_file_name)):\n",
    "        status = isok(all_file_name[num_news])\n",
    "        if status:\n",
    "            shutil.copy2(all_file_name[num_news], \n",
    "                         final_data_directory + type + \"/\" + all_file_name[num_news][len(current_working_directory) + 19:])"
   ]
  },
  {
   "cell_type": "code",
   "execution_count": 54,
   "metadata": {},
   "outputs": [],
   "source": [
    "find_usable_data(\"Fake_consize\")\n",
    "find_usable_data(\"Real_consize\")"
   ]
  },
  {
   "cell_type": "code",
   "execution_count": null,
   "metadata": {},
   "outputs": [],
   "source": []
  },
  {
   "cell_type": "code",
   "execution_count": null,
   "metadata": {},
   "outputs": [],
   "source": []
  }
 ],
 "metadata": {
  "kernelspec": {
   "display_name": "Python 3",
   "language": "python",
   "name": "python3"
  },
  "language_info": {
   "codemirror_mode": {
    "name": "ipython",
    "version": 3
   },
   "file_extension": ".py",
   "mimetype": "text/x-python",
   "name": "python",
   "nbconvert_exporter": "python",
   "pygments_lexer": "ipython3",
   "version": "3.6.5"
  }
 },
 "nbformat": 4,
 "nbformat_minor": 2
}
