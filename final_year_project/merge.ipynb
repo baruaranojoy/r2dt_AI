{
 "cells": [
  {
   "cell_type": "code",
   "execution_count": 9,
   "metadata": {},
   "outputs": [],
   "source": [
    "import shutil,glob\n",
    "outfilename = 'all_merged.txt'\n",
    "\n",
    "filenames = glob.glob('Data/Real/*.txt')\n",
    "with open(outfilename, 'w') as outfile:\n",
    "    for fname in filenames:\n",
    "        with open(fname, 'r') as readfile:\n",
    "            infile=readfile.read() \n",
    "            for line in infile:\n",
    "                outfile.write(line) \n",
    "                #outfile.write(\"\\n\")\n",
    "                "
   ]
  },
  {
   "cell_type": "code",
   "execution_count": 14,
   "metadata": {},
   "outputs": [],
   "source": [
    "import re\n",
    "rx = r\"\\.(?!\\s)(?!$)\"\n",
    "fname = 'all_merged.txt'\n",
    "outfilename='rmerge.txt'\n",
    "with open(outfilename, 'w') as outfile , open(fname, 'r') as readfile:\n",
    "    infile=readfile.read()\n",
    "    result = re.sub(rx, \".\\n\", infile)\n",
    "    outfile.write(result)"
   ]
  },
  {
   "cell_type": "code",
   "execution_count": 15,
   "metadata": {},
   "outputs": [],
   "source": [
    "import shutil,glob\n",
    "outfilename = 'all_mergedf.txt'\n",
    "\n",
    "filenames = glob.glob('Data/Fake/*.txt')\n",
    "with open(outfilename, 'w') as outfile:\n",
    "    for fname in filenames:\n",
    "        with open(fname, 'r') as readfile:\n",
    "            infile=readfile.read() \n",
    "            for line in infile:\n",
    "                outfile.write(line) "
   ]
  },
  {
   "cell_type": "code",
   "execution_count": 16,
   "metadata": {},
   "outputs": [],
   "source": [
    "import re\n",
    "rx = r\"\\.(?!\\s)(?!$)\"\n",
    "fname = 'all_mergedf.txt'\n",
    "outfilename='fkmerge.txt'\n",
    "with open(outfilename, 'w') as outfile , open(fname, 'r') as readfile:\n",
    "    infile=readfile.read()\n",
    "    result = re.sub(rx, \".\\n\", infile)\n",
    "    outfile.write(result)"
   ]
  },
  {
   "cell_type": "code",
   "execution_count": null,
   "metadata": {},
   "outputs": [],
   "source": []
  }
 ],
 "metadata": {
  "kernelspec": {
   "display_name": "Python 3",
   "language": "python",
   "name": "python3"
  },
  "language_info": {
   "codemirror_mode": {
    "name": "ipython",
    "version": 3
   },
   "file_extension": ".py",
   "mimetype": "text/x-python",
   "name": "python",
   "nbconvert_exporter": "python",
   "pygments_lexer": "ipython3",
   "version": "3.6.5"
  }
 },
 "nbformat": 4,
 "nbformat_minor": 2
}
