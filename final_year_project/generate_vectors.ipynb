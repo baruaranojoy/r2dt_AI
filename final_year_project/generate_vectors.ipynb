{
 "cells": [
  {
   "cell_type": "code",
   "execution_count": 1,
   "metadata": {},
   "outputs": [],
   "source": [
    "import os\n",
    "import glob\n",
    "import re\n",
    "from tqdm import tqdm\n",
    "\n",
    "from gensim.test.utils import common_texts\n",
    "from gensim.models.doc2vec import Doc2Vec, TaggedDocument\n",
    "import multiprocessing\n",
    "from gensim.test.utils import get_tmpfile"
   ]
  },
  {
   "cell_type": "code",
   "execution_count": 2,
   "metadata": {},
   "outputs": [],
   "source": [
    "rx = r'\\s*[!?\\.]\\s*'"
   ]
  },
  {
   "cell_type": "code",
   "execution_count": 3,
   "metadata": {},
   "outputs": [],
   "source": [
    "source_directory = \"Data_final/\"\n",
    "target_directory = \"Vectors/\""
   ]
  },
  {
   "cell_type": "code",
   "execution_count": 4,
   "metadata": {},
   "outputs": [],
   "source": [
    "doc2vec_model_location = \"corpus/custom_doc2vec_model\"\n",
    "model__ = Doc2Vec.load(doc2vec_model_location)"
   ]
  },
  {
   "cell_type": "code",
   "execution_count": 5,
   "metadata": {},
   "outputs": [],
   "source": [
    "def convert2vector(path, type_, name):\n",
    "    name = name[:len(name) - 2]\n",
    "    fopen = open(path, \"r\")\n",
    "    data = fopen.readline()\n",
    "    data = fopen.read()\n",
    "    data = data[9:]\n",
    "    fopen.close()\n",
    "    data = data.split(\"/*~*/\")\n",
    "    data = data[:len(data) - 1]\n",
    "    \n",
    "    doc2vec_ = []\n",
    "    for k in range(len(data)):\n",
    "        vector = model__.infer_vector(data[k])\n",
    "        doc2vec_.append(vector)\n",
    "    \n",
    "    fopen = open(target_directory + type_ + name + \".csv\", \"w\")\n",
    "    for k in range(len(doc2vec_)):\n",
    "        for m in range(len(doc2vec_[k]) - 1):\n",
    "            fopen.write(str(doc2vec_[k][m]) + \",\")\n",
    "        fopen.write(str(doc2vec_[k][m + 1]))\n",
    "        fopen.write(\"\\n\")\n",
    "    fopen.close()"
   ]
  },
  {
   "cell_type": "code",
   "execution_count": 6,
   "metadata": {},
   "outputs": [],
   "source": [
    "def getfiles(type_):\n",
    "    allfile_name = glob.glob(source_directory + type_ + \"*.txt\")\n",
    "    for k in tqdm(range(len(allfile_name))):\n",
    "        name = allfile_name[k][len(source_directory) + len(type_):]\n",
    "        convert2vector(allfile_name[k], type_, name)\n",
    "        #break"
   ]
  },
  {
   "cell_type": "code",
   "execution_count": 7,
   "metadata": {
    "scrolled": true
   },
   "outputs": [
    {
     "name": "stderr",
     "output_type": "stream",
     "text": [
      "100%|██████████| 234/234 [00:02<00:00, 84.97it/s]\n",
      "100%|██████████| 205/205 [00:02<00:00, 81.92it/s]\n"
     ]
    }
   ],
   "source": [
    "getfiles(\"Fake_consize/\")\n",
    "getfiles(\"Real_consize/\")"
   ]
  },
  {
   "cell_type": "code",
   "execution_count": null,
   "metadata": {},
   "outputs": [],
   "source": []
  }
 ],
 "metadata": {
  "kernelspec": {
   "display_name": "Python 3",
   "language": "python",
   "name": "python3"
  },
  "language_info": {
   "codemirror_mode": {
    "name": "ipython",
    "version": 3
   },
   "file_extension": ".py",
   "mimetype": "text/x-python",
   "name": "python",
   "nbconvert_exporter": "python",
   "pygments_lexer": "ipython3",
   "version": "3.6.5"
  }
 },
 "nbformat": 4,
 "nbformat_minor": 2
}
